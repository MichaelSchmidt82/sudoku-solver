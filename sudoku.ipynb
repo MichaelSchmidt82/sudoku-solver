{
 "cells": [
  {
   "cell_type": "code",
   "execution_count": 10,
   "metadata": {},
   "outputs": [],
   "source": [
    "import random\n",
    "from annotated_board import AnnotatedBoard\n",
    "from copy import deepcopy"
   ]
  },
  {
   "cell_type": "code",
   "execution_count": 11,
   "metadata": {},
   "outputs": [],
   "source": [
    "def deduce(board):\n",
    "    \"\"\"\n",
    "    Deduce values from the board and return number of unknowns.\n",
    "\n",
    "    \"\"\"\n",
    "    board.full_deduce()\n",
    "    return board.unknown_count()\n",
    "\n",
    "def depth_first_search(board):\n",
    "    \"\"\"\n",
    "    Search using DFS when deductions can't be made, otherwise deduce values.\n",
    "\n",
    "    :board:     AnnotatedBoard() object\n",
    "    :rtype:     None\n",
    "    \"\"\"\n",
    "\n",
    "    # Base case\n",
    "    count = board.unknown_count()\n",
    "    print('new function call,', count, 'unknowns')\n",
    "    print(board)\n",
    "    count = deduce(board)\n",
    "    print('deduced. Now need', count)\n",
    "\n",
    "    while count:\n",
    "        next = deduce(board)\n",
    "        print('deducing. Now need', count)\n",
    "        if next < count:\n",
    "            count = next\n",
    "        else:\n",
    "            break\n",
    "\n",
    "    print('could not deduce anymore.')\n",
    "    if not count:\n",
    "        print('!!! SOLVED !!!')\n",
    "        return True\n",
    "    \n",
    "    guess_board = deepcopy(board)\n",
    "\n",
    "    # Search case\n",
    "    if guess_board.is_valid():\n",
    "        print('board is valid')\n",
    "        col = random.randint(0, 8)\n",
    "        row = random.randint(0, 8)\n",
    "\n",
    "        while isinstance(guess_board.element(row, col), int):\n",
    "            col = random.randint(0, 8)\n",
    "            row = random.randint(0, 8)\n",
    "\n",
    "        stack = set(v for v in guess_board.element(row, col))\n",
    "        reset = deepcopy(stack)\n",
    "        guess_board = deepcopy(board)\n",
    "\n",
    "        print('going to try to backtrack', stack, 'values')\n",
    "        for _ in range(len(stack)):\n",
    "            v = stack.pop()\n",
    "            print('trying', v, 'at', row, col, 'with', stack, 'left')\n",
    "            guess_board.guess(row, col, v)\n",
    "            if depth_first_search(guess_board):\n",
    "                board = deepcopy(guess_board)\n",
    "                del guess_board\n",
    "                return True\n",
    "            guess_board.guess(row, col, reset)\n",
    "\n",
    "        board.guess(row, col, reset)\n",
    "        print('no longer back tracking')\n",
    "    else:\n",
    "        print('board is invalid')\n",
    "        board = deepcopy(guess_board)\n",
    "    \n",
    "    del guess_board\n",
    "    return False"
   ]
  },
  {
   "cell_type": "code",
   "execution_count": 12,
   "metadata": {},
   "outputs": [
    {
     "name": "stdout",
     "output_type": "stream",
     "text": [
      ". . 9 | 7 4 8 | . . . \n",
      "7 . . | . . . | . . . \n",
      ". 2 . | 1 . 9 | . . . \n",
      "------+-------+------\n",
      ". . 7 | . . . | 2 4 . \n",
      ". 6 4 | . 1 . | 5 9 . \n",
      ". 9 8 | . . . | 3 . . \n",
      "------+-------+------\n",
      ". . . | 8 . 3 | . 2 . \n",
      ". . . | . . . | . . 6 \n",
      ". . . | 2 7 5 | 9 . . \n",
      "\n"
     ]
    },
    {
     "data": {
      "text/plain": [
       "AnnotatedBoard(27 known, 33.3% complete, valid)"
      ]
     },
     "execution_count": 12,
     "metadata": {},
     "output_type": "execute_result"
    }
   ],
   "source": [
    "game = AnnotatedBoard()\n",
    "game.from_file('hard1.sudoku')\n",
    "print(game)\n",
    "game"
   ]
  },
  {
   "cell_type": "code",
   "execution_count": 13,
   "metadata": {},
   "outputs": [
    {
     "name": "stdout",
     "output_type": "stream",
     "text": [
      "new function call, 54 unknowns\n",
      ". . 9 | 7 4 8 | . . . \n",
      "7 . . | . . . | . . . \n",
      ". 2 . | 1 . 9 | . . . \n",
      "------+-------+------\n",
      ". . 7 | . . . | 2 4 . \n",
      ". 6 4 | . 1 . | 5 9 . \n",
      ". 9 8 | . . . | 3 . . \n",
      "------+-------+------\n",
      ". . . | 8 . 3 | . 2 . \n",
      ". . . | . . . | . . 6 \n",
      ". . . | 2 7 5 | 9 . . \n",
      "\n",
      "deduced. Now need 51\n",
      "deducing. Now need 51\n",
      "deducing. Now need 48\n",
      "deducing. Now need 45\n",
      "deducing. Now need 42\n",
      "deducing. Now need 39\n",
      "deducing. Now need 36\n",
      "deducing. Now need 33\n",
      "deducing. Now need 30\n",
      "could not deduce anymore.\n",
      "board is valid\n",
      "going to try to backtrack {3, 5} values\n",
      "trying 3 at 1 4 with {5} left\n",
      "new function call, 29 unknowns\n",
      ". . 9 | 7 4 8 | . . 2 \n",
      "7 . . | 6 3 2 | . . 9 \n",
      ". 2 . | 1 . 9 | . . . \n",
      "------+-------+------\n",
      ". . 7 | 9 8 6 | 2 4 1 \n",
      "2 6 4 | 3 1 7 | 5 9 8 \n",
      "1 9 8 | 5 2 4 | 3 6 7 \n",
      "------+-------+------\n",
      "9 . . | 8 6 3 | . 2 . \n",
      ". . 2 | 4 9 1 | . . 6 \n",
      ". . . | 2 7 5 | 9 . . \n",
      "\n",
      "deduced. Now need 27\n",
      "deducing. Now need 27\n",
      "deducing. Now need 26\n",
      "deducing. Now need 25\n",
      "could not deduce anymore.\n",
      "board is valid\n",
      "going to try to backtrack {8, 1, 3} values\n",
      "trying 8 at 8 7 with {1, 3} left\n",
      "new function call, 24 unknowns\n",
      ". . 9 | 7 4 8 | . 5 2 \n",
      "7 . 5 | 6 3 2 | . . 9 \n",
      ". 2 . | 1 5 9 | . . . \n",
      "------+-------+------\n",
      ". . 7 | 9 8 6 | 2 4 1 \n",
      "2 6 4 | 3 1 7 | 5 9 8 \n",
      "1 9 8 | 5 2 4 | 3 6 7 \n",
      "------+-------+------\n",
      "9 . . | 8 6 3 | . 2 5 \n",
      ". . 2 | 4 9 1 | . . 6 \n",
      ". . . | 2 7 5 | 9 8 . \n",
      "\n",
      "deduced. Now need 23\n",
      "deducing. Now need 23\n",
      "deducing. Now need 21\n",
      "deducing. Now need 20\n",
      "deducing. Now need 19\n",
      "deducing. Now need 18\n",
      "deducing. Now need 17\n",
      "deducing. Now need 15\n",
      "deducing. Now need 13\n",
      "deducing. Now need 12\n",
      "deducing. Now need 10\n",
      "deducing. Now need 9\n",
      "deducing. Now need 6\n",
      "deducing. Now need 5\n",
      "deducing. Now need 4\n",
      "deducing. Now need 3\n",
      "could not deduce anymore.\n",
      "board is invalid\n",
      "trying 1 at 8 7 with {3} left\n",
      "new function call, 3 unknowns\n",
      "3 1 9 | 7 4 8 | 6 5 2 \n",
      "7 8 5 | 6 3 2 | 4 1 9 \n",
      "4 2 6 | 1 5 9 | 8 7 3 \n",
      "------+-------+------\n",
      ". 3 7 | 9 8 6 | 2 4 1 \n",
      "2 6 4 | 3 1 7 | 5 9 8 \n",
      "1 9 8 | 5 2 4 | 3 6 7 \n",
      "------+-------+------\n",
      "9 4 . | 8 6 3 | 1 2 5 \n",
      "5 7 2 | 4 9 1 | . 3 6 \n",
      "3 3 1 | 2 7 5 | 9 8 4 \n",
      "\n",
      "deduced. Now need 3\n",
      "deducing. Now need 3\n",
      "could not deduce anymore.\n",
      "board is invalid\n",
      "trying 3 at 8 7 with set() left\n",
      "new function call, 3 unknowns\n",
      "3 1 9 | 7 4 8 | 6 5 2 \n",
      "7 8 5 | 6 3 2 | 4 1 9 \n",
      "4 2 6 | 1 5 9 | 8 7 3 \n",
      "------+-------+------\n",
      ". 3 7 | 9 8 6 | 2 4 1 \n",
      "2 6 4 | 3 1 7 | 5 9 8 \n",
      "1 9 8 | 5 2 4 | 3 6 7 \n",
      "------+-------+------\n",
      "9 4 . | 8 6 3 | 1 2 5 \n",
      "5 7 2 | 4 9 1 | . 3 6 \n",
      "3 3 1 | 2 7 5 | 9 8 4 \n",
      "\n",
      "deduced. Now need 3\n",
      "deducing. Now need 3\n",
      "could not deduce anymore.\n",
      "board is invalid\n",
      "no longer back tracking\n",
      "trying 5 at 1 4 with set() left\n",
      "new function call, 26 unknowns\n",
      ". . 9 | 7 4 8 | . 5 2 \n",
      "7 . 5 | 6 . 2 | . . 9 \n",
      ". 2 . | 1 5 9 | . . . \n",
      "------+-------+------\n",
      ". . 7 | 9 8 6 | 2 4 1 \n",
      "2 6 4 | 3 1 7 | 5 9 8 \n",
      "1 9 8 | 5 2 4 | 3 6 7 \n",
      "------+-------+------\n",
      "9 . . | 8 6 3 | . 2 5 \n",
      ". . 2 | 4 9 1 | . . 6 \n",
      ". . . | 2 7 5 | 9 . . \n",
      "\n",
      "deduced. Now need 25\n",
      "deducing. Now need 25\n",
      "could not deduce anymore.\n",
      "board is valid\n",
      "going to try to backtrack {8, 3, 5, 7} values\n",
      "trying 8 at 7 1 with {3, 5, 7} left\n",
      "new function call, 24 unknowns\n",
      ". . 9 | 7 4 8 | . 5 2 \n",
      "7 . 5 | 6 3 2 | . . 9 \n",
      ". 2 . | 1 5 9 | . . . \n",
      "------+-------+------\n",
      ". . 7 | 9 8 6 | 2 4 1 \n",
      "2 6 4 | 3 1 7 | 5 9 8 \n",
      "1 9 8 | 5 2 4 | 3 6 7 \n",
      "------+-------+------\n",
      "9 . . | 8 6 3 | . 2 5 \n",
      ". 8 2 | 4 9 1 | . . 6 \n",
      ". . . | 2 7 5 | 9 . . \n",
      "\n",
      "deduced. Now need 21\n",
      "deducing. Now need 21\n",
      "deducing. Now need 18\n",
      "deducing. Now need 17\n",
      "deducing. Now need 15\n",
      "deducing. Now need 14\n",
      "deducing. Now need 13\n",
      "deducing. Now need 11\n",
      "deducing. Now need 10\n",
      "deducing. Now need 9\n",
      "deducing. Now need 6\n",
      "deducing. Now need 5\n",
      "deducing. Now need 4\n",
      "deducing. Now need 3\n",
      "deducing. Now need 2\n",
      "could not deduce anymore.\n",
      "board is invalid\n",
      "trying 3 at 7 1 with {5, 7} left\n",
      "new function call, 3 unknowns\n",
      "6 1 9 | 7 4 8 | . 5 2 \n",
      "7 4 5 | 6 3 2 | 8 8 9 \n",
      "8 2 3 | 1 5 9 | 6 7 4 \n",
      "------+-------+------\n",
      "3 5 7 | 9 8 6 | 2 4 1 \n",
      "2 6 4 | 3 1 7 | 5 9 8 \n",
      "1 9 8 | 5 2 4 | 3 6 7 \n",
      "------+-------+------\n",
      "9 7 1 | 8 6 3 | 4 2 5 \n",
      "5 . 2 | 4 9 1 | 7 3 6 \n",
      "4 3 6 | 2 7 5 | 9 8 . \n",
      "\n",
      "deduced. Now need 2\n",
      "deducing. Now need 2\n",
      "could not deduce anymore.\n",
      "board is invalid\n",
      "trying 5 at 7 1 with {7} left\n",
      "new function call, 3 unknowns\n",
      "6 1 9 | 7 4 8 | . 5 2 \n",
      "7 4 5 | 6 3 2 | 8 8 9 \n",
      "8 2 3 | 1 5 9 | 6 7 4 \n",
      "------+-------+------\n",
      "3 5 7 | 9 8 6 | 2 4 1 \n",
      "2 6 4 | 3 1 7 | 5 9 8 \n",
      "1 9 8 | 5 2 4 | 3 6 7 \n",
      "------+-------+------\n",
      "9 7 1 | 8 6 3 | 4 2 5 \n",
      "5 . 2 | 4 9 1 | 7 3 6 \n",
      "4 3 6 | 2 7 5 | 9 8 . \n",
      "\n",
      "deduced. Now need 2\n",
      "deducing. Now need 2\n",
      "could not deduce anymore.\n",
      "board is invalid\n",
      "trying 7 at 7 1 with set() left\n",
      "new function call, 3 unknowns\n",
      "6 1 9 | 7 4 8 | . 5 2 \n",
      "7 4 5 | 6 3 2 | 8 8 9 \n",
      "8 2 3 | 1 5 9 | 6 7 4 \n",
      "------+-------+------\n",
      "3 5 7 | 9 8 6 | 2 4 1 \n",
      "2 6 4 | 3 1 7 | 5 9 8 \n",
      "1 9 8 | 5 2 4 | 3 6 7 \n",
      "------+-------+------\n",
      "9 7 1 | 8 6 3 | 4 2 5 \n",
      "5 . 2 | 4 9 1 | 7 3 6 \n",
      "4 3 6 | 2 7 5 | 9 8 . \n",
      "\n",
      "deduced. Now need 2\n",
      "deducing. Now need 2\n",
      "could not deduce anymore.\n",
      "board is invalid\n",
      "no longer back tracking\n",
      "no longer back tracking\n"
     ]
    },
    {
     "data": {
      "text/plain": [
       "False"
      ]
     },
     "execution_count": 13,
     "metadata": {},
     "output_type": "execute_result"
    }
   ],
   "source": [
    "depth_first_search(game)"
   ]
  },
  {
   "cell_type": "code",
   "execution_count": 9,
   "metadata": {},
   "outputs": [
    {
     "name": "stdout",
     "output_type": "stream",
     "text": [
      ". . 9 | 7 4 8 | . . 2 \n",
      "7 . . | 6 . 2 | . . 9 \n",
      ". 2 . | 1 . 9 | . . . \n",
      "------+-------+------\n",
      ". . 7 | 9 8 6 | 2 4 1 \n",
      "2 6 4 | 3 1 7 | 5 9 8 \n",
      "1 9 8 | 5 2 4 | 3 6 7 \n",
      "------+-------+------\n",
      "9 . . | 8 6 3 | . 2 . \n",
      ". . 2 | 4 9 1 | . . 6 \n",
      ". . . | 2 7 5 | 9 . . \n",
      "\n"
     ]
    }
   ],
   "source": [
    "print(game)"
   ]
  },
  {
   "cell_type": "code",
   "execution_count": 11,
   "metadata": {},
   "outputs": [
    {
     "data": {
      "text/plain": [
       "1"
      ]
     },
     "execution_count": 11,
     "metadata": {},
     "output_type": "execute_result"
    }
   ],
   "source": []
  },
  {
   "cell_type": "code",
   "execution_count": 19,
   "metadata": {},
   "outputs": [
    {
     "data": {
      "text/plain": [
       "{1, 2, 3}"
      ]
     },
     "execution_count": 19,
     "metadata": {},
     "output_type": "execute_result"
    }
   ],
   "source": [
    "s = set({1,2,3})\n",
    "p = set(v for v in s)\n",
    "p.pop()\n",
    "s"
   ]
  },
  {
   "cell_type": "code",
   "execution_count": 20,
   "metadata": {},
   "outputs": [
    {
     "data": {
      "text/plain": [
       "{2, 3}"
      ]
     },
     "execution_count": 20,
     "metadata": {},
     "output_type": "execute_result"
    }
   ],
   "source": [
    "p"
   ]
  },
  {
   "cell_type": "code",
   "execution_count": null,
   "metadata": {},
   "outputs": [],
   "source": []
  }
 ],
 "metadata": {
  "kernelspec": {
   "display_name": "Python 3",
   "language": "python",
   "name": "python3"
  },
  "language_info": {
   "codemirror_mode": {
    "name": "ipython",
    "version": 3
   },
   "file_extension": ".py",
   "mimetype": "text/x-python",
   "name": "python",
   "nbconvert_exporter": "python",
   "pygments_lexer": "ipython3",
   "version": "3.7.0"
  }
 },
 "nbformat": 4,
 "nbformat_minor": 2
}
