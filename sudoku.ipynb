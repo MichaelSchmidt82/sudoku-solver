{
 "cells": [
  {
   "cell_type": "code",
   "execution_count": 5,
   "metadata": {},
   "outputs": [],
   "source": [
    "import random\n",
    "import time\n",
    "from annotated_board import AnnotatedBoard\n",
    "from copy import deepcopy"
   ]
  },
  {
   "cell_type": "code",
   "execution_count": 6,
   "metadata": {},
   "outputs": [],
   "source": [
    "def deduce(board):\n",
    "    \"\"\"\n",
    "    Deduce values from the board and return number of unknowns.\n",
    "\n",
    "    \"\"\"\n",
    "    board.full_deduce()\n",
    "    count = board.unknown_count()\n",
    "    while count:\n",
    "        board.full_deduce()\n",
    "        last = board.unknowns\n",
    "        if last < count:\n",
    "            count = last\n",
    "        else:\n",
    "            return\n",
    "        \n",
    "        \n",
    "\n",
    "def DFS(board):\n",
    "    \"\"\"\n",
    "    Search using DFS when deductions can't be made, otherwise deduce values.\n",
    "\n",
    "    :board:     AnnotatedBoard() object\n",
    "    :rtype:     None\n",
    "    \"\"\"\n",
    " \n",
    "    # Base case\n",
    "    deduce(board)\n",
    "    count = board.unknowns\n",
    "    if not count:\n",
    "        return board\n",
    "    \n",
    "    if board.is_valid() and count:\n",
    "        row, col = random.randint(0, 8), random.randint(0, 8)\n",
    "        while isinstance(board.element(row, col), int):\n",
    "            row, col = random.randint(0, 8), random.randint(0, 8)\n",
    "\n",
    "        stack = set(v for v in board.element(row, col))\n",
    "        guess_board = deepcopy(board)\n",
    "        for _ in range(len(stack)):\n",
    "            v = stack.pop()\n",
    "            guess_board.guess(row, col, v)\n",
    "            guess_board = DFS(guess_board)\n",
    "            if guess_board:\n",
    "                return guess_board\n",
    "            guess_board = deepcopy(board)\n",
    "        del guess_board\n",
    "    else:\n",
    "        del board\n",
    "        return None"
   ]
  },
  {
   "cell_type": "code",
   "execution_count": 7,
   "metadata": {},
   "outputs": [],
   "source": [
    "runs = 2500\n",
    "count = 0\n",
    "sum = 0\n",
    "times = []\n",
    "\n",
    "for x in range(runs):\n",
    "    game = AnnotatedBoard()\n",
    "    game.from_file('hard1.sudoku')\n",
    "    start = time.time()\n",
    "    game = DFS(game)\n",
    "    stop = time.time()\n",
    "    \n",
    "    times.append(stop - start)\n",
    "    \n",
    "    if game and game.unknown_count() == 0:\n",
    "        count += 1"
   ]
  },
  {
   "cell_type": "code",
   "execution_count": 8,
   "metadata": {},
   "outputs": [
    {
     "name": "stdout",
     "output_type": "stream",
     "text": [
      "100.0000% correct, 0.007071 average\n"
     ]
    }
   ],
   "source": [
    "for t in times:\n",
    "    sum += t\n",
    "print('%2.4f%% correct, %1.6f average' % (float(count) / runs * 100, float(sum) / len(times)))"
   ]
  },
  {
   "cell_type": "code",
   "execution_count": null,
   "metadata": {},
   "outputs": [],
   "source": []
  }
 ],
 "metadata": {
  "kernelspec": {
   "display_name": "Python 3",
   "language": "python",
   "name": "python3"
  },
  "language_info": {
   "codemirror_mode": {
    "name": "ipython",
    "version": 3
   },
   "file_extension": ".py",
   "mimetype": "text/x-python",
   "name": "python",
   "nbconvert_exporter": "python",
   "pygments_lexer": "ipython3",
   "version": "3.7.0"
  }
 },
 "nbformat": 4,
 "nbformat_minor": 2
}
