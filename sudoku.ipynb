{
 "cells": [
  {
   "cell_type": "code",
   "execution_count": 1,
   "metadata": {},
   "outputs": [],
   "source": [
    "import random\n",
    "import time\n",
    "from annotated_board import AnnotatedBoard\n",
    "from copy import deepcopy"
   ]
  },
  {
   "cell_type": "code",
   "execution_count": 35,
   "metadata": {},
   "outputs": [],
   "source": [
    "def deduce(board):\n",
    "    \"\"\"\n",
    "    Deduce values from the board and return number of unknowns.\n",
    "\n",
    "    \"\"\"\n",
    "    board.full_deduce()\n",
    "    return board.unknown_count()\n",
    "\n",
    "def depth_first_search(board, deep):\n",
    "    \"\"\"\n",
    "    Search using DFS when deductions can't be made, otherwise deduce values.\n",
    "\n",
    "    :board:     AnnotatedBoard() object\n",
    "    :rtype:     None\n",
    "    \"\"\"\n",
    "\n",
    "    # Base case\n",
    "    count = deduce(board)\n",
    "    while count:\n",
    "        next = deduce(board)\n",
    "        if next < count:\n",
    "            count = next\n",
    "        else:\n",
    "            break\n",
    "\n",
    "    if not count:\n",
    "        return board\n",
    "    \n",
    "    guess_board = deepcopy(board)\n",
    "\n",
    "    # Search case\n",
    "    if guess_board.is_valid():\n",
    "        row, col = random.randint(0, 8), random.randint(0, 8)\n",
    "        while isinstance(guess_board.element(row, col), int):\n",
    "            row, col = random.randint(0, 8), random.randint(0, 8)\n",
    "\n",
    "        stack = set(v for v in guess_board.element(row, col))\n",
    "        for _ in range(len(stack)):\n",
    "            v = stack.pop()\n",
    "            guess_board.guess(row, col, v)\n",
    "            if depth_first_search(guess_board, deep + 1) is not None:\n",
    "                board = deepcopy(guess_board)\n",
    "                del guess_board\n",
    "                return board\n",
    "            guess_board = deepcopy(board)\n",
    "        \n",
    "    board = deepcopy(guess_board)\n",
    "    del guess_board\n",
    "    return None"
   ]
  },
  {
   "cell_type": "code",
   "execution_count": 71,
   "metadata": {},
   "outputs": [
    {
     "name": "stdout",
     "output_type": "stream",
     "text": [
      "48.2000% correct, 0.008352 average\n"
     ]
    }
   ],
   "source": [
    "runs = 500\n",
    "count = 0\n",
    "sum = 0\n",
    "times = []\n",
    "\n",
    "\n",
    "for x in range(runs):\n",
    "    game = AnnotatedBoard()\n",
    "    game.from_file('hard1.sudoku')\n",
    "    start=time.time()\n",
    "    game = depth_first_search(game, 1)\n",
    "    stop=time.time()\n",
    "    \n",
    "    times.append(stop - start)\n",
    "    \n",
    "    if game and game.unknown_count() == 0:\n",
    "        count += 1\n",
    "\n",
    "for t in times:\n",
    "    sum += t\n",
    "print('%2.4f%% correct, %1.6f average' % (float(count) / runs * 100, float(sum) / len(times)))"
   ]
  },
  {
   "cell_type": "code",
   "execution_count": 72,
   "metadata": {},
   "outputs": [
    {
     "name": "stdout",
     "output_type": "stream",
     "text": [
      "5 1 9 | 7 4 8 | 6 3 2 \n",
      "7 8 3 | 6 5 2 | 4 1 9 \n",
      "4 2 6 | 1 3 9 | 8 7 5 \n",
      "------+-------+------\n",
      "3 5 7 | 9 8 6 | 2 4 1 \n",
      "2 6 4 | 3 1 7 | 5 9 8 \n",
      "1 9 8 | 5 2 4 | 3 6 7 \n",
      "------+-------+------\n",
      "9 7 5 | 8 6 3 | 1 2 4 \n",
      "8 3 2 | 4 9 1 | 7 5 6 \n",
      "6 4 1 | 2 7 5 | 9 8 3 \n",
      "\n"
     ]
    }
   ],
   "source": [
    "print(game)"
   ]
  },
  {
   "cell_type": "code",
   "execution_count": null,
   "metadata": {},
   "outputs": [],
   "source": []
  },
  {
   "cell_type": "code",
   "execution_count": null,
   "metadata": {},
   "outputs": [],
   "source": []
  },
  {
   "cell_type": "code",
   "execution_count": null,
   "metadata": {},
   "outputs": [],
   "source": []
  },
  {
   "cell_type": "code",
   "execution_count": null,
   "metadata": {},
   "outputs": [],
   "source": []
  },
  {
   "cell_type": "code",
   "execution_count": null,
   "metadata": {},
   "outputs": [],
   "source": []
  },
  {
   "cell_type": "code",
   "execution_count": null,
   "metadata": {},
   "outputs": [],
   "source": []
  },
  {
   "cell_type": "code",
   "execution_count": null,
   "metadata": {},
   "outputs": [],
   "source": []
  },
  {
   "cell_type": "code",
   "execution_count": null,
   "metadata": {},
   "outputs": [],
   "source": []
  },
  {
   "cell_type": "code",
   "execution_count": null,
   "metadata": {},
   "outputs": [],
   "source": []
  }
 ],
 "metadata": {
  "kernelspec": {
   "display_name": "Python 3",
   "language": "python",
   "name": "python3"
  },
  "language_info": {
   "codemirror_mode": {
    "name": "ipython",
    "version": 3
   },
   "file_extension": ".py",
   "mimetype": "text/x-python",
   "name": "python",
   "nbconvert_exporter": "python",
   "pygments_lexer": "ipython3",
   "version": "3.7.0"
  }
 },
 "nbformat": 4,
 "nbformat_minor": 2
}
