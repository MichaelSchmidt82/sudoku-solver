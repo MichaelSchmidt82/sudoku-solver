{
 "cells": [
  {
   "cell_type": "code",
   "execution_count": 1,
   "source": [
    "import os\n",
    "import random\n",
    "from annotated_board import AnnotatedBoard\n",
    "from copy import deepcopy"
   ],
   "outputs": [],
   "metadata": {}
  },
  {
   "cell_type": "code",
   "execution_count": 2,
   "source": [
    "def deduce(board):\n",
    "    \"\"\"\n",
    "    Deduce values from the board and return number of unknowns.\n",
    "\n",
    "    \"\"\"\n",
    "    board.full_deduce()\n",
    "\n",
    "    count = board.unknown_count()\n",
    "    while count:\n",
    "        board.full_deduce()\n",
    "        last = board.unknowns\n",
    "        if last < count:\n",
    "            count = last\n",
    "        else:\n",
    "            return\n",
    "    return board\n",
    "\n",
    "\n",
    "def search(board):\n",
    "    \"\"\"\n",
    "    Search using DFS when deductions can't be made, otherwise deduce values.\n",
    "\n",
    "    :board:     AnnotatedBoard() object\n",
    "    :rtype:     None\n",
    "    \"\"\"\n",
    " \n",
    "    # Base case\n",
    "    deduce(board)\n",
    "    count = board.unknowns\n",
    "    if not count:\n",
    "        return board\n",
    "    \n",
    "    if board.is_valid() and count:\n",
    "        row, col = random.randint(0, 8), random.randint(0, 8)\n",
    "        while isinstance(board.element(row, col), int):\n",
    "            row, col = random.randint(0, 8), random.randint(0, 8)\n",
    "\n",
    "        stack = board.element(row, col)\n",
    "        guess_board = deepcopy(board)\n",
    "        for _ in range(len(stack)):\n",
    "            v = stack.pop()\n",
    "            guess_board.guess(row, col, v)\n",
    "            guess_board = search(guess_board)\n",
    "            if guess_board:\n",
    "                return guess_board\n",
    "            guess_board = deepcopy(board)\n",
    "        del guess_board\n",
    "    else:\n",
    "        del board\n",
    "        return None\n",
    "\n",
    "\n",
    "def solve(board):\n",
    "\n",
    "    if not deduce(board):\n",
    "        board = search(board)\n",
    "\n",
    "    return board\n",
    "\n"
   ],
   "outputs": [],
   "metadata": {}
  },
  {
   "cell_type": "code",
   "execution_count": 3,
   "source": [
    "game = AnnotatedBoard()\n",
    "game.from_file('games/easy1.sudoku')\n",
    "print('before:', game, sep=os.linesep)\n",
    "game = solve(game)\n",
    "print('after:', game, sep=os.linesep)"
   ],
   "outputs": [
    {
     "output_type": "stream",
     "name": "stdout",
     "text": [
      "before:\n",
      "2 . . | . . . | . 6 3 \n",
      ". . 6 | 5 8 3 | . . 9 \n",
      ". . 4 | 1 . . | . . 7 \n",
      "------+-------+------\n",
      ". 6 . | . . 1 | . 9 8 \n",
      ". 9 3 | . 5 . | 6 2 . \n",
      "8 2 . | 3 . . | . 7 . \n",
      "------+-------+------\n",
      "6 . . | . . 9 | 7 . . \n",
      "5 . . | 6 7 8 | 4 . . \n",
      "3 4 . | . . . | . . 6 \n",
      "\n",
      "after:\n",
      "2 5 8 | 9 4 7 | 1 6 3 \n",
      "1 7 6 | 5 8 3 | 2 4 9 \n",
      "9 3 4 | 1 6 2 | 8 5 7 \n",
      "------+-------+------\n",
      "4 6 5 | 7 2 1 | 3 9 8 \n",
      "7 9 3 | 8 5 4 | 6 2 1 \n",
      "8 2 1 | 3 9 6 | 5 7 4 \n",
      "------+-------+------\n",
      "6 8 2 | 4 3 9 | 7 1 5 \n",
      "5 1 9 | 6 7 8 | 4 3 2 \n",
      "3 4 7 | 2 1 5 | 9 8 6 \n",
      "\n"
     ]
    }
   ],
   "metadata": {}
  },
  {
   "cell_type": "code",
   "execution_count": 4,
   "source": [
    "game = AnnotatedBoard()\n",
    "game.from_file('games/medium31.sudoku')\n",
    "print('before:', game, sep=os.linesep)\n",
    "game = solve(game)\n",
    "print('after:', game, sep=os.linesep)"
   ],
   "outputs": [
    {
     "output_type": "stream",
     "name": "stdout",
     "text": [
      "before:\n",
      ". 3 6 | 8 . . | . . . \n",
      "5 9 . | . . 2 | . . . \n",
      "4 . . | 6 . . | . . 5 \n",
      "------+-------+------\n",
      "8 2 . | 7 6 4 | . . . \n",
      "7 4 . | . . . | . 8 3 \n",
      ". . . | 1 8 3 | . 4 7 \n",
      "------+-------+------\n",
      "9 . . | . . 7 | . . 6 \n",
      ". . . | 4 . . | . 3 9 \n",
      ". . . | . . 8 | 5 7 . \n",
      "\n",
      "after:\n",
      "2 3 6 | 8 5 1 | 7 9 4 \n",
      "5 9 7 | 3 4 2 | 1 6 8 \n",
      "4 1 8 | 6 7 9 | 3 2 5 \n",
      "------+-------+------\n",
      "8 2 3 | 7 6 4 | 9 5 1 \n",
      "7 4 1 | 2 9 5 | 6 8 3 \n",
      "6 5 9 | 1 8 3 | 2 4 7 \n",
      "------+-------+------\n",
      "9 8 2 | 5 3 7 | 4 1 6 \n",
      "1 7 5 | 4 2 6 | 8 3 9 \n",
      "3 6 4 | 9 1 8 | 5 7 2 \n",
      "\n"
     ]
    }
   ],
   "metadata": {}
  },
  {
   "cell_type": "code",
   "execution_count": 5,
   "source": [
    "game = AnnotatedBoard()\n",
    "game.from_file('games/ambiguous1.sudoku') # a board with multiple solutions requires a depth first search\n",
    "print('before:', game, sep=os.linesep)\n",
    "game = solve(game)\n",
    "print('after:', game, sep=os.linesep)"
   ],
   "outputs": [
    {
     "output_type": "stream",
     "name": "stdout",
     "text": [
      "before:\n",
      ". . 9 | 7 4 8 | . . . \n",
      "7 . . | . . . | . . . \n",
      ". 2 . | 1 . 9 | . . . \n",
      "------+-------+------\n",
      ". . 7 | . . . | 2 4 . \n",
      ". 6 4 | . 1 . | 5 9 . \n",
      ". 9 8 | . . . | 3 . . \n",
      "------+-------+------\n",
      ". . . | 8 . 3 | . 2 . \n",
      ". . . | . . . | . . 6 \n",
      ". . . | 2 7 5 | 9 . . \n",
      "\n",
      "after:\n",
      "5 1 9 | 7 4 8 | 6 3 2 \n",
      "7 8 3 | 6 5 2 | 4 1 9 \n",
      "4 2 6 | 1 3 9 | 8 7 5 \n",
      "------+-------+------\n",
      "3 5 7 | 9 8 6 | 2 4 1 \n",
      "2 6 4 | 3 1 7 | 5 9 8 \n",
      "1 9 8 | 5 2 4 | 3 6 7 \n",
      "------+-------+------\n",
      "9 7 5 | 8 6 3 | 1 2 4 \n",
      "8 3 2 | 4 9 1 | 7 5 6 \n",
      "6 4 1 | 2 7 5 | 9 8 3 \n",
      "\n"
     ]
    }
   ],
   "metadata": {}
  }
 ],
 "metadata": {
  "kernelspec": {
   "name": "python3",
   "display_name": "Python 3.9.6 64-bit"
  },
  "language_info": {
   "codemirror_mode": {
    "name": "ipython",
    "version": 3
   },
   "file_extension": ".py",
   "mimetype": "text/x-python",
   "name": "python",
   "nbconvert_exporter": "python",
   "pygments_lexer": "ipython3",
   "version": "3.9.6"
  },
  "interpreter": {
   "hash": "aee8b7b246df8f9039afb4144a1f6fd8d2ca17a180786b69acc140d282b71a49"
  }
 },
 "nbformat": 4,
 "nbformat_minor": 2
}